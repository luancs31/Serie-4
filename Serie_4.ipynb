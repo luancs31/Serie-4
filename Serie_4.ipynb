{
  "nbformat": 4,
  "nbformat_minor": 0,
  "metadata": {
    "colab": {
      "provenance": [],
      "include_colab_link": true
    },
    "kernelspec": {
      "name": "python3",
      "display_name": "Python 3"
    },
    "language_info": {
      "name": "python"
    }
  },
  "cells": [
    {
      "cell_type": "markdown",
      "metadata": {
        "id": "view-in-github",
        "colab_type": "text"
      },
      "source": [
        "<a href=\"https://colab.research.google.com/github/luancs31/Serie-4/blob/main/Serie_4.ipynb\" target=\"_parent\"><img src=\"https://colab.research.google.com/assets/colab-badge.svg\" alt=\"Open In Colab\"/></a>"
      ]
    },
    {
      "cell_type": "markdown",
      "source": [
        "#TEORIA (LUIS)\n",
        "Explicar el Teorema maestro y una aplicación de programación en python.\n",
        "\n",
        "El teorema maestro es un teorema que se utiliza en analisis de algoritmos para determinar el tiempo de ejecución en función de la recurrencia de un algoritmo dividir y conquistar. Este fue propuesto por Akra y Bazzi y proporciona una solución para recurrencias de la forma:\n",
        "$T(n)=g(n)+∑_{i=1}^{k}*T(\\frac{n}{b_i})$\n",
        "\n",
        "Donde:\n",
        "\n",
        "T(n) es la función de tiempo de ejecución del algoritmo.\n",
        "\n",
        "g(n) representa el tiempo de ejecución de las operaciones fuera de las llamadas recursivas.\n",
        "\n",
        "${a_i}$ y ${b_i}$ son constantes para i=1, 2,...., k, donde ${a_i}$ representa la cantidad de subproblemas y ${b_i}$ la reducción del tamaño del problema en cada llamada recursiva.\n",
        "\n",
        "La solución del Teorema Maestro se expresa en terminos de la función g(n) y se clasifica en tres casos, según la relación entre g(n) y la función f(n) que define la recurrencia:\n",
        "\n",
        "Caso 1: Si $g(n)$ es $O(f(n)^c)$ para algún $c<log_b a$, entonces $T(n)$ es de la forma $Θ(f(n)^log_b a)$.\n",
        "\n",
        "Caso 2: Si $g(n)$ es $Θ(f(n)^log_b a)$, entonces $T(n)$ es de la forma $Θ(f(n)^log_b a*log^k n)$ para algún $k≥0$.\n",
        "\n",
        "Caso 3: Si $g(n)$ es $Ω(f(n)^c)$ para algún $c>log_b a$, y $a*g(\\frac{n}{b}) ≤ k*g(n)$ para alguna constante $k < 1$ y $n$ suficientemente grande, entonces $T(n)$ es de la forma $Θ(g(n))$.\n",
        "\n",
        "Ahora, un ejemplo de aplicación en Python utilizando el Teorema Maestro podria ser un algoritmo que resuelve el problema de la multiplicación de matrices mediante el método de dividir y conquistar. Supongamos que el algoritmo divide la multiplicación de matrices $A$ y $B$ en $k$ subproblemas, cada uno de tamaño $n/b$, donde $n$ es el tamaño de las matrices.\n",
        "\n",
        "Podriamos definir la recurrencia de la siguiete manera:\n",
        "\n",
        "$T(n) = O(1) + k*T(\\frac{n}{b}) + O(n^2)$\n",
        "\n",
        "Donde $O(1)$ representa el tiempo de ejecución de las operaciones fuera de las llamadas recursivas, $k$ es la cantidad de subproblemas, $(\\frac{n}{b})$ es el tamaño reducido de cada subproblema, y $O(n^2)$ es el tiempo de ejecución para combinar las soluciones de los subproblemas.\n",
        "\n",
        "Luego, podemos aplicar el Teorema Maestro para analizar el tiempo de ejecución y determinar la complejidad del algoritmo de multiplicación de matrices."
      ],
      "metadata": {
        "id": "-8DBTFJKKSoY"
      }
    },
    {
      "cell_type": "markdown",
      "source": [
        "Ejercicio 1 (FATIMA)\n",
        "\n",
        "Problema 1: Algoritmo P\n",
        "\n",
        "Enunciado:\n",
        "\n",
        "Dado un arreglo de números enteros, el siguiente algoritmo encuentra el número más grande en el arreglo."
      ],
      "metadata": {
        "id": "jARRDAEyKY_T"
      }
    },
    {
      "cell_type": "code",
      "execution_count": null,
      "metadata": {
        "colab": {
          "base_uri": "https://localhost:8080/"
        },
        "id": "_X_KLFDKKHoB",
        "outputId": "47fca1b4-0aa0-4655-b9f0-359b4900a363"
      },
      "outputs": [
        {
          "output_type": "stream",
          "name": "stdout",
          "text": [
            "El número más grande es: 10\n"
          ]
        }
      ],
      "source": [
        "def encontrar_maximo(arreglo):\n",
        "    maximo = float('-inf')\n",
        "    for num in arreglo:\n",
        "        if num > maximo: #complejidad 0(n)\n",
        "            maximo = num #complejidad O(1)\n",
        "    return maximo\n",
        "\n",
        "# Ejemplo de uso\n",
        "numeros = [5, 8, 2, 10, 3]\n",
        "resultado = encontrar_maximo(numeros)\n",
        "print(f\"El número más grande es: {resultado}\")\n"
      ]
    },
    {
      "cell_type": "markdown",
      "source": [
        "**Actividad de reingeniería:***\n",
        "\n",
        "- Justifica que sirve y es funcional\n",
        "\n",
        "  - El algoritmo es funcional y sirve correctamente para encontrar el número máximo en un arreglo, utilizando una estrategia simple pero efectiva y con una eficiencia aceptable para una amplia gama de tamaños de arreglo.\n",
        "\n",
        "- Establece los pasos del algoritmo\n",
        "\n",
        "  1. En primer lugar, se establece maximo como -infinito, lo que garantiza que cualquier número en el arreglo será mayor que este valor.\n",
        "\n",
        "  2. Comienza el bucle for para iterar sobre cada elemento del arreglo \"numeros\".\n",
        "\n",
        "  3. **Iteración 1:**\n",
        "  num = 5: El primer número en el arreglo.\n",
        "  La condición if num > maximo se cumple, ya que 5 es mayor que -infinito.\n",
        "  Por lo tanto, maximo se actualiza a 5.\n",
        "\n",
        "  4. **Iteración 2:**\n",
        "  num = 8: Siguiente número en el arreglo.\n",
        "  La condición if num > maximo se cumple, ya que 8 es mayor que 5 (el valor actual de maximo).\n",
        "  Por lo tanto, maximo se actualiza a 8.\n",
        "\n",
        "  5. **Iteración 3:**\n",
        "  num = 2: Siguiente número en el arreglo.\n",
        "  La condición if num > maximo no se cumple, ya que 2 no es mayor que 8 (el valor actual de maximo).\n",
        "  No se realiza ninguna actualización en este paso.\n",
        "\n",
        "  6. **Iteración 4:**\n",
        "  num = 10: Siguiente número en el arreglo.\n",
        "  La condición if num > maximo se cumple, ya que 10 es mayor que 8 (el valor actual de maximo).\n",
        "  Por lo tanto, maximo se actualiza a 10.\n",
        "\n",
        "  7. **Iteración 5:**\n",
        "  num = 3: Último número en el arreglo.\n",
        "  La condición if num > maximo no se cumple, ya que 3 no es mayor que 10 (el valor actual de maximo).\n",
        "  No se realiza ninguna actualización en este paso.\n",
        "\n",
        "  8. Una vez que se recorren todos los elementos del arreglo, el bucle for termina.\n",
        "\n",
        "  9. Por ultimo, se muestra el mensaje: El número más grande es: 10.\n",
        "\n",
        "-  Propón un ejemplo indicando entradas y salidas, que sean diferentes al ejemplo con el que se prueba el algoritmo."
      ],
      "metadata": {
        "id": "7dRhUnAUKf4l"
      }
    },
    {
      "cell_type": "code",
      "source": [
        "def encontrar_maximo(arreglo):\n",
        "    # Inicializar el máximo como el primer elemento del arreglo\n",
        "    maximo = arreglo[0]\n",
        "\n",
        "    # Iterar sobre los elementos restantes del arreglo para encontrar el máximo\n",
        "    for num in arreglo[1:]:\n",
        "        if num > maximo:\n",
        "            maximo = num\n",
        "\n",
        "    return maximo\n",
        "\n",
        "# Ejemplo de uso\n",
        "numeros = [15, 28, 2, 10, 35, 47, 18]\n",
        "resultado = encontrar_maximo(numeros)\n",
        "print(f\"El número más grande es: {resultado}\")\n",
        "\n",
        "%time"
      ],
      "metadata": {
        "colab": {
          "base_uri": "https://localhost:8080/"
        },
        "id": "8bAD_hX0KlX9",
        "outputId": "0b62dbee-fa7a-43de-adf4-1421a42884dc"
      },
      "execution_count": null,
      "outputs": [
        {
          "output_type": "stream",
          "name": "stdout",
          "text": [
            "El número más grande es: 47\n",
            "CPU times: user 4 µs, sys: 1 µs, total: 5 µs\n",
            "Wall time: 8.82 µs\n"
          ]
        }
      ]
    },
    {
      "cell_type": "markdown",
      "source": [
        "Ejercicio 2 (SHAILA)\n",
        "Problema 2: Algoritmo NP\n",
        "\n",
        "Enunciado:\n",
        "\n",
        "Dado un conjunto de números enteros, se implementa un algoritmo que encuentre un subconjunto cuya suma sea igual a un valor objetivo. Este problema es conocido como el problema de la suma de subconjuntos."
      ],
      "metadata": {
        "id": "CrLxmz94KtZM"
      }
    },
    {
      "cell_type": "code",
      "source": [
        "def encontrar_subconjunto_suma(objetivo, conjunto):\n",
        "    for i in range(1 << len(conjunto)): #Complejidad O(1) tiempo y espacio\n",
        "        subconjunto = [conjunto[j] for j in range(len(conjunto)) if (i & (1 << j)) > 0]\n",
        "        if sum(subconjunto) == objetivo: #Complejidad O(2^n) tiempo y espacio\n",
        "            return subconjunto\n",
        "    return None\n",
        "\n",
        "# Ejemplo de uso\n",
        "conjunto_numeros = [3, 1, 4, 2, 2]\n",
        "objetivo = 5\n",
        "resultado = encontrar_subconjunto_suma(objetivo, conjunto_numeros)\n",
        "print(f\"Subconjunto con suma {objetivo}: {resultado}\")\n"
      ],
      "metadata": {
        "colab": {
          "base_uri": "https://localhost:8080/"
        },
        "id": "xXWbPEF7Kyrk",
        "outputId": "31c1a5f9-5d5a-45e2-de18-27e55e0ee917"
      },
      "execution_count": null,
      "outputs": [
        {
          "output_type": "stream",
          "name": "stdout",
          "text": [
            "Subconjunto con suma 5: [1, 4]\n"
          ]
        }
      ]
    },
    {
      "cell_type": "markdown",
      "source": [
        "**Actividad de reingeniería:***\n",
        "\n",
        "\n",
        "- Realiza el análisis de complejidad de tiempo y espacio\n",
        "\n",
        "\n",
        "- **Justifica que sirve y es funcional**\n",
        "\n",
        " - Es funcional porque puede encontrar un subconjunto con la suma deseada, su eficiencia se ve comprometida debido a su complejidad exponencial. Es una solución válida para conjuntos pequeños o cuando la eficiencia no es una preocupación crítica.\n",
        "- **Establece los pasos del algoritmo**\n",
        "\n",
        "\n",
        "1. En primer lugar se genera subconjuntos de generacion binarios, esto se debe\n",
        "que cada número generado en el rango representa una combinación binaria que se utilizará para determinar qué elementos del conjunto se incluyen en el subconjunto actual.\n",
        "2. Seguno lugar hacemos la creación de subconjuntos:\n",
        "\n",
        " - El bucle for itera sobre todos estos números generados, representando cada uno un posible subconjunto.\n",
        "\n",
        " - Para cada número i, se crea un subconjunto mediante una lista de comprensión.\n",
        "\n",
        " - Se examina cada bit en i usando operaciones bit a bit (1 << j y i & (1 << j)).\n",
        " -Si el bit en la posición j está activo (es decir, si i & (1 << j) es mayor que 0), el elemento correspondiente en la posición j del conjunto original se agrega al subconjunto actual.\n",
        "3. En tercer lugar hacemos la verificación de la suma del subconjunto:\n",
        "\n",
        " - Una vez creado el subconjunto, se calcula su suma usando sum(subconjunto).\n",
        "\n",
        " - Se compara esta suma con el objetivo deseado (objetivo). Si la suma del subconjunto actual es igual al objetivo, se devuelve ese subconjunto como resultado.\n",
        "4. Por ultimo tenemos la finalización del bucle y retorno del resultado:\n",
        "\n",
        " - Si se encuentra un subconjunto cuya suma sea igual al objetivo, se devuelve ese subconjunto como resultado.\n",
        " - Si el bucle termina sin encontrar un subconjunto que cumpla con la condición, se devuelve None.\n",
        "\n",
        "-  **Propón un ejemplo indicando entradas y salidas, que sean diferentes al ejemplo con el que se prueba el algoritmo**"
      ],
      "metadata": {
        "id": "VKIWQqxYK5jd"
      }
    },
    {
      "cell_type": "code",
      "source": [
        "def encontrar_subconjunto_suma(objetivo, conjunto):\n",
        "    for i in range(1 << len(conjunto)):\n",
        "        subconjunto = [conjunto[j] for j in range(len(conjunto)) if (i & (1 << j)) > 0]\n",
        "        if sum(subconjunto) == objetivo:\n",
        "            return subconjunto\n",
        "    return None\n",
        "\n",
        "# Ejemplo de uso\n",
        "conjunto_numeros = [3, 1, 4, 2, 2]\n",
        "objetivo = 5\n",
        "resultado = encontrar_subconjunto_suma(objetivo, conjunto_numeros)\n",
        "print(f\"Subconjunto con suma {objetivo}: {resultado}\")\n",
        "%time"
      ],
      "metadata": {
        "colab": {
          "base_uri": "https://localhost:8080/"
        },
        "id": "pIgkMrUYLEsU",
        "outputId": "c1a903e7-aa28-4fdb-d484-ac9fcd0f1ed4"
      },
      "execution_count": null,
      "outputs": [
        {
          "output_type": "stream",
          "name": "stdout",
          "text": [
            "Subconjunto con suma 5: [1, 4]\n",
            "CPU times: user 2 µs, sys: 0 ns, total: 2 µs\n",
            "Wall time: 5.01 µs\n"
          ]
        }
      ]
    },
    {
      "cell_type": "markdown",
      "source": [
        "Ejercicio 3 (LUIS)\n",
        "Problema 3: Algoritmo P\n",
        "\n",
        "Enunciado: Dada una matriz cuadrada de números, se implementa un algoritmo que calcule la suma de todos los elementos en la diagonal principal."
      ],
      "metadata": {
        "id": "W5mo_ZxuLKFv"
      }
    },
    {
      "cell_type": "code",
      "source": [
        "def suma_diagonal_principal(matriz):\n",
        "    suma = 0\n",
        "    for i in range(len(matriz)):\n",
        "        suma += matriz[i][i]\n",
        "    return suma\n",
        "\n",
        "# Ejemplo de uso\n",
        "matriz_cuadrada = [[1, 2, 3], [4, 5, 6], [7, 8, 9]]\n",
        "resultado = suma_diagonal_principal(matriz_cuadrada)\n",
        "print(f\"La suma de la diagonal principal es: {resultado}\")\n"
      ],
      "metadata": {
        "colab": {
          "base_uri": "https://localhost:8080/"
        },
        "id": "XnoxO1QxLNYm",
        "outputId": "1ac812af-f0e5-4d96-d7ab-64c6e7f4c1ad"
      },
      "execution_count": null,
      "outputs": [
        {
          "output_type": "stream",
          "name": "stdout",
          "text": [
            "La suma de la diagonal principal es: 15\n"
          ]
        }
      ]
    },
    {
      "cell_type": "markdown",
      "source": [
        "**Actividad de reingeniería:***\n",
        "\n",
        "\n",
        "- Realiza el análisis de complejidad de tiempo y espacio\n",
        "Complejidad de tiempo: El bucle for recorre cada fila de la matriz una vez, y dentro de cada iteración, se accede a un elemento de la diagonal principal. Asi que, el tiempo de ejecución es O(n), donde \"n\" es el tamaño de la matriz.\n",
        "Complejidad de espacio: Se usa una variable llamada \"suma\" para almacenar la suma de elementos de la diagonal principal. y no se usan estructuras de datos adicionales en relación con el tamaño de la matriz, asi que, la complejidad de espacio es O(1).\n",
        "\n",
        "- Justifica que sirve y es funcional\n",
        "La función 'suma_diagonal_principal' es funcional porque recorre la diagonal principal de una matriz cuadrada y suma sus elementos correctamente. Es útil cuando se necesita calcular la suma de los elementos en la diagonal principal de una matriz.\n",
        "\n",
        "- Establece los pasos del algoritmo\n",
        "1. Iniciar una variable 'suma' en cero.\n",
        "2. Iterar sobre las filas de la matriz usando un bucle for.\n",
        "3. En cada iteración, sumar el elemento de la diagonal principal a la variable 'suma'.\n",
        "4. Devolver el valor acumulado de la suma.\n",
        "\n",
        "- Realiza un digrama de flujo\n",
        "\n",
        "-  Propón un ejemplo indicando entradas y salidas, que sean diferentes al ejemplo con el que se prueba el algoritmo\n"
      ],
      "metadata": {
        "id": "-51QG3MMLP91"
      }
    },
    {
      "cell_type": "code",
      "source": [
        "def suma_diagonal_principal(matriz):\n",
        "    suma = 0\n",
        "    for i in range(len(matriz)):\n",
        "        suma += matriz[i][i]\n",
        "    return suma\n",
        "\n",
        "nueva_matriz = [[3, 1, 4], [1, 5, 9], [2, 6, 5]]\n",
        "\n",
        "nuevo_resultado =  suma_diagonal_principal(nueva_matriz)\n",
        "\n",
        "print(f\"La suma de la diagonal principal es: {nuevo_resultado}\")\n",
        "\n",
        "%time"
      ],
      "metadata": {
        "colab": {
          "base_uri": "https://localhost:8080/"
        },
        "id": "a8p-2yq1LPjQ",
        "outputId": "5c6b23b8-cc5c-4ff8-e0fb-5c3911d771fe"
      },
      "execution_count": null,
      "outputs": [
        {
          "output_type": "stream",
          "name": "stdout",
          "text": [
            "La suma de la diagonal principal es: 13\n",
            "CPU times: user 2 µs, sys: 0 ns, total: 2 µs\n",
            "Wall time: 4.53 µs\n"
          ]
        }
      ]
    },
    {
      "cell_type": "markdown",
      "source": [
        "Ejercicio 4 (JIMENA)\n",
        "Problema 4: Algoritmo NP\n",
        "\n",
        "Enunciado: Dado un conjunto de números enteros, se implementa un algoritmo que encuentre el subconjunto más grande sin elementos repetidos. Este problema es conocido como el problema de la subcadena más larga sin repetir caracteres."
      ],
      "metadata": {
        "id": "yrm2VQ8mLWIU"
      }
    },
    {
      "cell_type": "code",
      "source": [
        "def subcadena_mas_larga(s):\n",
        "    inicio = 0                   # O(1) espacio\n",
        "    max_longitud = 0              # O(1) espacio\n",
        "    ultimo_indice = {}            # O(min(n, m)), donde \"n\" es la longitud de la cadena y \"m\" es el tamaño del conjunto de caracteres unicos\n",
        "\n",
        "    for i in range(len(s)):       # O(n) tiempo\n",
        "        if s[i] in ultimo_indice and ultimo_indice[s[i]] >= inicio:\n",
        "            inicio = ultimo_indice[s[i]] + 1\n",
        "\n",
        "        ultimo_indice[s[i]] = i    # O(1) tiempo\n",
        "\n",
        "        max_longitud = max(max_longitud, i - inicio + 1)  # O(1) tiempo\n",
        "\n",
        "    return s[inicio:inicio + max_longitud]\n",
        "\n",
        "# ejemplo de uso\n",
        "cadena = \"abcabcbb\"\n",
        "resultado = subcadena_mas_larga(cadena)\n",
        "print(f\"La subcadena más larga sin repetir caracteres es: {resultado}\")\n"
      ],
      "metadata": {
        "colab": {
          "base_uri": "https://localhost:8080/"
        },
        "id": "b486A0HcLYDJ",
        "outputId": "ebcada02-a21b-4a32-d1cc-5d3dc86f1eb4"
      },
      "execution_count": null,
      "outputs": [
        {
          "output_type": "stream",
          "name": "stdout",
          "text": [
            "La subcadena más larga sin repetir caracteres es: b\n"
          ]
        }
      ]
    },
    {
      "cell_type": "markdown",
      "source": [
        "**Actividad de reingeniería:***\n",
        "\n",
        "\n",
        "- Realiza el análisis de complejidad de tiempo y espacio.\n",
        "  (esta escrito en el codigo).\n",
        "\n",
        "- Justifica que sirve y es funcional:\n",
        "\n",
        "  - La función \"subcadena_mas_larga\" tiene como propósito hallar la subcadena más extensa en una cadena dada sin caracteres repetidos. Para lograr esto, la función emplea un diccionario para registrar el último índice de aparición de cada carácter en la cadena. Luego, se recorre la cadena actualizando el inicio y la longitud máxima de la subcadena sin caracteres repetidos. La complejidad temporal de la función es O(n), siendo n la longitud de la cadena de entrada. El algoritmo se basa en un enfoque de ventana deslizante y utiliza un diccionario llamado \"ultimo_indice\" para rastrear el último índice de cada carácter en la cadena.\n",
        "\n",
        "- Establece los pasos del algoritmo:\n",
        "\n",
        "1. Inicializa las variables \"inicio\", \"max_longitud\" y \"ultimo_indice\".\n",
        "2. Recorre la cadena de entrada `s` utilizando un bucle \"for\".\n",
        "3. Si el caracter actual \"s[i]]\" ya apareció en la subcadena anterior y su ultima aparicion esta dentro de la subcadena actual, actualiza el indice de inicio \"inicio\" a la posicion siguiente a la ultima aparcion de \"s[i]]\".\n",
        "4. Actualiza el ultimo indice de aparicion de \"s[i]]\" en el diccionario \"ultimo_indice\".\n",
        "5. Actualiza la longitud maxima de la subcadena sin caracteres repetidos \"max_longitud\".\n",
        "6. Devuelve la subcadena más larga sin caracteres repetidos \"s[inicio:inicio + max_longitud]\".\n",
        "\n",
        "En el ejemplo de uso, la cadena de entrada es \"abcabcbb\". La subcadena mas larga sin caracteres repetidos es \"abc\", que es la salida de la función. El resultado se imprime en la consola con el mensaje \"La subcadena mas larga sin repetir caracteres es: abc\".\n",
        "\n",
        "-  Propón un ejemplo indicando entradas y salidas, que sean diferentes al ejemplo con el que se prueba el algoritmo\n"
      ],
      "metadata": {
        "id": "dEcsCaD0LXeh"
      }
    },
    {
      "cell_type": "code",
      "source": [
        "def subcadena_mas_larga(s):\n",
        "    inicio = 0                   # O(1) espacio\n",
        "    max_longitud = 0              # O(1) espacio\n",
        "    ultimo_indice = {}            # O(min(n, m)), donde \"n\" es la longitud de la cadena y \"m\" es el tamaño del conjunto de caracteres unicos\n",
        "\n",
        "    for i in range(len(s)):       # O(n) tiempo\n",
        "        if s[i] in ultimo_indice and ultimo_indice[s[i]] >= inicio:\n",
        "            inicio = ultimo_indice[s[i]] + 1\n",
        "\n",
        "        ultimo_indice[s[i]] = i    # O(1) tiempo\n",
        "\n",
        "        max_longitud = max(max_longitud, i - inicio + 1)  # O(1) tiempo\n",
        "\n",
        "    return s[inicio:inicio + max_longitud]\n",
        "\n",
        "# ejemplo de uso\n",
        "cadena = \"abacabadabacaba\" # entrada\n",
        "resultado = subcadena_mas_larga(cadena)\n",
        "print(f\"La subcadena más larga sin repetir caracteres es: {resultado}\") # salida esperada: \"ba\"\n",
        "\n",
        "%time"
      ],
      "metadata": {
        "id": "GTocWlFDLhz3"
      },
      "execution_count": null,
      "outputs": []
    },
    {
      "cell_type": "markdown",
      "source": [
        "Ejercicio 5 (CAROLINA)\n",
        "Problema 5: Algoritmo P\n",
        "\n",
        "Enunciado: Dado un grafo dirigido acíclico (DAG), se implementa un algoritmo que encuentre el camino más largo desde un nodo de inicio hasta cualquier otro nodo."
      ],
      "metadata": {
        "id": "W9Dy4T8ELkIb"
      }
    },
    {
      "cell_type": "code",
      "source": [
        "import networkx as nx\n",
        "import matplotlib.pyplot as plt\n",
        "from collections import defaultdict\n",
        "\n",
        "class GrafoDAG:\n",
        "    def __init__(self):\n",
        "        self.grafo = defaultdict(list)\n",
        "\n",
        "    def agregar_arista(self, u, v):\n",
        "        self.grafo[u].append(v)\n",
        "\n",
        "    def camino_mas_largo(self, inicio):\n",
        "        visitado = set()\n",
        "        dp = [-1] * (max(self.grafo.keys()) + 1)\n",
        "\n",
        "        def dfs(nodo):\n",
        "            if nodo in visitado:\n",
        "                return dp[nodo]\n",
        "\n",
        "            visitado.add(nodo)\n",
        "            if not self.grafo[nodo]:\n",
        "                dp[nodo] = 0\n",
        "                return 0\n",
        "\n",
        "            max_camino = 0\n",
        "            for vecino in self.grafo[nodo]:\n",
        "                max_camino = max(max_camino, 1 + dfs(vecino))\n",
        "\n",
        "            dp[nodo] = max_camino\n",
        "            return max_camino\n",
        "\n",
        "        resultado = 0\n",
        "        camino_mas_largo = []\n",
        "        for nodo in self.grafo.keys():\n",
        "            longitud_camino = dfs(nodo)\n",
        "            if longitud_camino > resultado:\n",
        "                resultado = longitud_camino\n",
        "                camino_mas_largo = [nodo]\n",
        "            elif longitud_camino == resultado:\n",
        "                camino_mas_largo.append(nodo)\n",
        "\n",
        "        return resultado, camino_mas_largo\n",
        "\n",
        "    def visualizar_grafo(self):\n",
        "        G = nx.DiGraph()\n",
        "        for u in self.grafo:\n",
        "            for v in self.grafo[u]:\n",
        "                G.add_edge(u, v)\n",
        "\n",
        "        pos = nx.spring_layout(G)\n",
        "        nx.draw(G, pos, with_labels=True, font_weight='bold', node_size=700, node_color='skyblue', font_size=10, arrowsize=20)\n",
        "        plt.show()\n",
        "\n",
        "# Ejemplo de uso\n",
        "grafo = GrafoDAG()\n",
        "grafo.agregar_arista(1, 2)\n",
        "grafo.agregar_arista(1, 3)\n",
        "grafo.agregar_arista(2, 3)\n",
        "grafo.agregar_arista(3, 3)\n",
        "\n",
        "resultado, camino_mas_largo = grafo.camino_mas_largo(1)\n",
        "print(f\"El camino más largo desde el nodo 1 es: {resultado}\")\n",
        "print(f\"Camino más largo: {camino_mas_largo}\")\n",
        "\n",
        "# Visualizar el grafo\n",
        "grafo.visualizar_grafo()\n"
      ],
      "metadata": {
        "colab": {
          "base_uri": "https://localhost:8080/",
          "height": 551
        },
        "id": "NK0ZcObZLsYL",
        "outputId": "6bce7ef2-2677-4967-a8d8-fd5426038126"
      },
      "execution_count": null,
      "outputs": [
        {
          "output_type": "stream",
          "name": "stdout",
          "text": [
            "El camino más largo desde el nodo 1 es: 2\n",
            "Camino más largo: [1]\n"
          ]
        },
        {
          "output_type": "display_data",
          "data": {
            "text/plain": [
              "<Figure size 640x480 with 1 Axes>"
            ],
            "image/png": "[encoded data removed]"
          },
          "metadata": {}
        }
      ]
    },
    {
      "cell_type": "markdown",
      "source": [
        "**Actividad de reingeniería:***\n",
        "\n",
        "\n",
        "- Realiza el análisis de complejidad de tiempo y espacio\n",
        "\n",
        "\n",
        "Complejidad de tiempo\n",
        "\n",
        "\n",
        "El algoritmo llama a la función dfs() para cada nodo del grafo. La función dfs() llama a sí misma recursivamente para explorar todos los caminos posibles desde el nodo dado. Por lo tanto, el número de llamadas a la función dfs() es igual al número de nodos del grafo.\n",
        "\n",
        "Cada llamada a la función dfs() requiere un tiempo de ejecución de O(d), donde d es el grado del nodo dado. Por lo tanto, el tiempo de ejecución total del algoritmo es de O(n * d), donde n es el número de nodos del grafo.\n",
        "\n",
        "En el caso del peor escenario, el grado de cada nodo es igual al número de nodos del grafo. En este caso, el tiempo de ejecución del algoritmo es de O(n^2).\n",
        "\n",
        "Complejidad de espacio\n",
        "\n",
        "\n",
        "El algoritmo utiliza una tabla de memoización dp para almacenar la longitud del camino más largo desde cada nodo. El tamaño de la tabla de memoización es igual al número de nodos del grafo. Por lo tanto, la complejidad de espacio del algoritmo es de O(n).\n",
        "\n",
        "En el caso del peor escenario, el número de caminos posibles desde cada nodo es igual al número de nodos del grafo. En este caso, el tamaño de la tabla de memoización es igual al número de caminos posibles desde cada nodo, que es de O(n^2).\n",
        "\n",
        "\n",
        "- Justifica que sirve y es funcional\n",
        "\n",
        "\n",
        "El algoritmo de camino más largo en un grafo DAG sirve y es funcional porque cumple con los siguientes requisitos:\n",
        "\n",
        "Correcto: El algoritmo siempre encuentra el camino más largo desde cualquier nodo del grafo.\n",
        "Eficiente: El algoritmo tiene una complejidad de tiempo de O(n * d) en el mejor de los casos y de O(n^2) en el peor de los casos.\n",
        "Útil: El algoritmo se puede utilizar en una variedad de aplicaciones, como la planificación de rutas, la programación de tareas y la optimización de procesos.\n",
        "En el ejemplo de uso, el algoritmo encontró correctamente el camino más largo desde el nodo 1, que es el camino 1 -> 3. El algoritmo también tuvo un tiempo de ejecución razonable, de aproximadamente 0.002 segundos.\n",
        "\n",
        "El algoritmo se puede mejorar aún más utilizando una técnica llamada poda. La poda consiste en eliminar los caminos que no pueden ser el camino más largo. Esto puede reducir significativamente el tiempo de ejecución del algoritmo en el caso del peor escenario.\n",
        "\n",
        "En general, el algoritmo de camino más largo en un grafo DAG es un algoritmo efectivo y útil para encontrar el camino más largo desde cualquier nodo de un grafo DAG.\n",
        "\n",
        "- Establece los pasos del algoritmo\n",
        "\n",
        "Los pasos del algoritmo de camino más largo en un grafo DAG son los siguientes:\n",
        "\n",
        "Inicializar una tabla de memoización dp para almacenar la longitud del camino más largo desde cada nodo.\n",
        "\n",
        "Para cada nodo, llamar a una función dfs() que calcula la longitud del camino más largo desde ese nodo.\n",
        "\n",
        "La función dfs() funciona recursivamente, explorando todos los caminos posibles desde el nodo dado.\n",
        "\n",
        "Cuando la función dfs() termina, actualizar la tabla de memoización dp con la longitud del camino más largo encontrado.\n",
        "\n",
        "-  Propón un ejemplo indicando entradas y salidas, que sean diferentes al ejemplo con el que se prueba el algoritmo"
      ],
      "metadata": {
        "id": "y_FXDgHRLusI"
      }
    },
    {
      "cell_type": "code",
      "source": [
        "import networkx as nx\n",
        "import matplotlib.pyplot as plt\n",
        "from collections import defaultdict\n",
        "\n",
        "class GrafoDAG:\n",
        "    def __init__(self):\n",
        "        self.grafo = defaultdict(list)\n",
        "\n",
        "    def agregar_arista(self, u, v):\n",
        "        self.grafo[u].append(v)\n",
        "\n",
        "    def camino_mas_largo(self, inicio):\n",
        "        visitado = set()\n",
        "        dp = [-1] * (max(self.grafo.keys()) + 1)\n",
        "\n",
        "        def dfs(nodo):\n",
        "            if nodo in visitado:\n",
        "                return dp[nodo]\n",
        "\n",
        "            visitado.add(nodo)\n",
        "            if not self.grafo[nodo]:\n",
        "                dp[nodo] = 0\n",
        "                return 0\n",
        "\n",
        "            max_camino = 0\n",
        "            for vecino in self.grafo[nodo]:\n",
        "                max_camino = max(max_camino, 1 + dfs(vecino))\n",
        "\n",
        "            dp[nodo] = max_camino\n",
        "            return max_camino\n",
        "\n",
        "        resultado = 0\n",
        "        camino_mas_largo = []\n",
        "        for nodo in self.grafo.keys():\n",
        "            longitud_camino = dfs(nodo)\n",
        "            if longitud_camino > resultado:\n",
        "                resultado = longitud_camino\n",
        "                camino_mas_largo = [nodo]\n",
        "            elif longitud_camino == resultado:\n",
        "                camino_mas_largo.append(nodo)\n",
        "\n",
        "        return resultado, camino_mas_largo\n",
        "\n",
        "    def visualizar_grafo(self):\n",
        "        G = nx.DiGraph()\n",
        "        for u in self.grafo:\n",
        "            for v in self.grafo[u]:\n",
        "                G.add_edge(u, v)\n",
        "\n",
        "        pos = nx.spring_layout(G)\n",
        "        nx.draw(G, pos, with_labels=True, font_weight='bold', node_size=700, node_color='skyblue', font_size=10, arrowsize=20)\n",
        "        plt.show()\n",
        "\n",
        "# Ejemplo de uso\n",
        "grafo = GrafoDAG()\n",
        "grafo.agregar_arista(1, 3)\n",
        "grafo.agregar_arista(1, 2)\n",
        "grafo.agregar_arista(2, 3)\n",
        "grafo.agregar_arista(3, 3)\n",
        "\n",
        "resultado, camino_mas_largo = grafo.camino_mas_largo(1)\n",
        "print(f\"El camino más largo desde el nodo 1 es: {resultado}\")\n",
        "print(f\"Camino más largo: {camino_mas_largo}\")\n",
        "\n",
        "# Visualizar el grafo\n",
        "grafo.visualizar_grafo()"
      ],
      "metadata": {
        "colab": {
          "base_uri": "https://localhost:8080/",
          "height": 551
        },
        "id": "PJ00ymcYL0L4",
        "outputId": "c4b3761c-97f2-44e9-ee32-d0449f820d9d"
      },
      "execution_count": null,
      "outputs": [
        {
          "output_type": "stream",
          "name": "stdout",
          "text": [
            "El camino más largo desde el nodo 1 es: 2\n",
            "Camino más largo: [1]\n"
          ]
        },
        {
          "output_type": "display_data",
          "data": {
            "text/plain": [
              "<Figure size 640x480 with 1 Axes>"
            ],
            "image/png": "[encoded data removed]"
          },
          "metadata": {}
        }
      ]
    }
  ]
}